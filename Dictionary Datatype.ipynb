{
 "cells": [
  {
   "cell_type": "code",
   "execution_count": 3,
   "metadata": {},
   "outputs": [
    {
     "name": "stdout",
     "output_type": "stream",
     "text": [
      "{}\n",
      "{'color': 'yellow', 'points': 5, 'score': 50, 'net total': 100}\n"
     ]
    }
   ],
   "source": [
    "#Introduction to Dictonry Data type\n",
    "\n",
    "alien_0 = {}\n",
    "print(alien_0)\n",
    "\n",
    "alien_0['color'] = 'yellow'\n",
    "alien_0['points'] = 5\n",
    "alien_0['score'] = 50\n",
    "alien_0['net total'] = 100\n",
    "\n",
    "print(alien_0)"
   ]
  },
  {
   "cell_type": "code",
   "execution_count": 4,
   "metadata": {},
   "outputs": [
    {
     "name": "stdout",
     "output_type": "stream",
     "text": [
      "{'color': 'yellow', 'points': 5, 'score': 50, 'net total': 100}\n"
     ]
    }
   ],
   "source": [
    "alien_1 = {'color': 'yellow', 'points': 5, 'score': 50, 'net total': 100}\n",
    "print(alien_1)\n"
   ]
  },
  {
   "cell_type": "code",
   "execution_count": null,
   "metadata": {},
   "outputs": [],
   "source": []
  }
 ],
 "metadata": {
  "kernelspec": {
   "display_name": "Python 3",
   "language": "python",
   "name": "python3"
  },
  "language_info": {
   "codemirror_mode": {
    "name": "ipython",
    "version": 3
   },
   "file_extension": ".py",
   "mimetype": "text/x-python",
   "name": "python",
   "nbconvert_exporter": "python",
   "pygments_lexer": "ipython3",
   "version": "3.7.3"
  }
 },
 "nbformat": 4,
 "nbformat_minor": 2
}
