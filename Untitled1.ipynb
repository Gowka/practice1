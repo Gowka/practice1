{
 "cells": [
  {
   "cell_type": "code",
   "execution_count": 1,
   "metadata": {},
   "outputs": [
    {
     "name": "stdout",
     "output_type": "stream",
     "text": [
      "Hello World\n"
     ]
    },
    {
     "data": {
      "text/plain": [
       "15"
      ]
     },
     "execution_count": 1,
     "metadata": {},
     "output_type": "execute_result"
    }
   ],
   "source": [
    "import sys\n",
    "\n",
    "print(\"Hello World\")\n",
    "\n",
    "x = 10\n",
    "y = 5\n",
    "x+y"
   ]
  },
  {
   "cell_type": "code",
   "execution_count": 8,
   "metadata": {},
   "outputs": [
    {
     "name": "stdout",
     "output_type": "stream",
     "text": [
      "Hello python world\n",
      "tony stark\n",
      "gowtham\n"
     ]
    }
   ],
   "source": [
    "print(\"Hello python world\")\n",
    "\n",
    "name = \"tony stark\"\n",
    "\n",
    "print(name)\n",
    "\n",
    "#first name = \"gowthamz\"\n",
    "first_name = \"gowtham\"\n",
    "\n",
    "print(first_name)\n"
   ]
  },
  {
   "cell_type": "code",
   "execution_count": 9,
   "metadata": {},
   "outputs": [
    {
     "name": "stdout",
     "output_type": "stream",
     "text": [
      "Gowtham\n",
      "GOWTHAM\n",
      "gowtham\n",
      "gowtham kannan\n"
     ]
    }
   ],
   "source": [
    "first_name = 'gowtham'\n",
    "last_name = 'kannan'\n",
    "\n",
    "print(first_name.title())\n",
    "print(first_name.upper())\n",
    "print(first_name.lower())\n",
    "\n",
    "full_name = f'{first_name} {last_name}'\n",
    "\n",
    "print(full_name)"
   ]
  },
  {
   "cell_type": "code",
   "execution_count": 11,
   "metadata": {},
   "outputs": [
    {
     "name": "stdout",
     "output_type": "stream",
     "text": [
      "\"\"my name is Gowtham\n"
     ]
    }
   ],
   "source": [
    "print(\"\"\"\"\"my name is Gowtham\"\"\"\"\")"
   ]
  },
  {
   "cell_type": "code",
   "execution_count": 15,
   "metadata": {},
   "outputs": [
    {
     "name": "stdout",
     "output_type": "stream",
     "text": [
      "Fill in the blank \t\n",
      "India is the \t populated country\n",
      "In India we have \n",
      " Delhi \n",
      " karnataka \n",
      " telungana \n",
      " west bengal \n",
      " punjab\n"
     ]
    }
   ],
   "source": [
    "print(\"Fill in the blank \\t\")\n",
    "print(\"India is the \\t populated country\")\n",
    "print(\"In India we have \\n Delhi \\n karnataka \\n telungana \\n west bengal \\n punjab\")"
   ]
  },
  {
   "cell_type": "code",
   "execution_count": 16,
   "metadata": {},
   "outputs": [
    {
     "name": "stdout",
     "output_type": "stream",
     "text": [
      "Gowtham\n",
      "Gowtham   \n",
      "   Gowtham\n"
     ]
    }
   ],
   "source": [
    "name = '   Gowtham   '\n",
    "print(name.strip())\n",
    "print(name.lstrip())\n",
    "print(name.rstrip())\n"
   ]
  },
  {
   "cell_type": "code",
   "execution_count": 17,
   "metadata": {},
   "outputs": [
    {
     "name": "stdout",
     "output_type": "stream",
     "text": [
      "1 2 3\n",
      "1\n",
      "2\n",
      "3\n"
     ]
    }
   ],
   "source": [
    "# we can use the #symbol to comment in the code\n",
    "\n",
    "2+3\n",
    "x,y,z = 1,2,3\n",
    "print(x,y,z)\n",
    "print(x)\n",
    "print(y)\n",
    "print(z)"
   ]
  },
  {
   "cell_type": "code",
   "execution_count": 20,
   "metadata": {},
   "outputs": [
    {
     "data": {
      "text/plain": [
       "11.98"
      ]
     },
     "execution_count": 20,
     "metadata": {},
     "output_type": "execute_result"
    }
   ],
   "source": [
    "# The difference between Integer and foat is : Float contains decimals where as Integer dosnt contain decimals\n",
    "\n",
    "1.3+4.5\n",
    "\n",
    "a = 9.98\n",
    "b = 2\n",
    "a+b"
   ]
  },
  {
   "cell_type": "code",
   "execution_count": 21,
   "metadata": {},
   "outputs": [
    {
     "data": {
      "text/plain": [
       "5.9"
      ]
     },
     "execution_count": 21,
     "metadata": {},
     "output_type": "execute_result"
    }
   ],
   "source": [
    "1.4 + 4.5"
   ]
  },
  {
   "cell_type": "code",
   "execution_count": 28,
   "metadata": {},
   "outputs": [
    {
     "name": "stdout",
     "output_type": "stream",
     "text": [
      "['abc', 'def', 'ghi', 'jkl', 'mno', 'pqr']\n",
      "abc\n",
      "def\n",
      "ghi\n",
      "jkl\n",
      "mno\n"
     ]
    }
   ],
   "source": [
    "#List Data type \n",
    "\n",
    "List = ['abc','def','ghi','jkl','mno','pqr']\n",
    "print(List)\n",
    "print(List[0])\n",
    "print(List[1])\n",
    "print(List[2])\n",
    "print(List[3])\n",
    "print(List[4])"
   ]
  },
  {
   "cell_type": "code",
   "execution_count": 31,
   "metadata": {},
   "outputs": [
    {
     "name": "stdout",
     "output_type": "stream",
     "text": [
      "['abc', 'def', 'ghi', 'jkl', 'mno', 'pqr']\n",
      "['abc', 'def', 'ghi', 'jkl', 'mno', 'pqr', 'XYZ']\n",
      "['abc', 'xyz', 'def', 'ghi', 'jkl', 'mno', 'pqr', 'XYZ']\n"
     ]
    }
   ],
   "source": [
    "List = ['abc','def','ghi','jkl','mno','pqr']\n",
    "print(List)\n",
    "\n",
    "List.append('XYZ')\n",
    "print(List)\n",
    "\n",
    "List.insert(1,'xyz')\n",
    "print(List)"
   ]
  },
  {
   "cell_type": "code",
   "execution_count": 36,
   "metadata": {},
   "outputs": [
    {
     "name": "stdout",
     "output_type": "stream",
     "text": [
      "['abc', 'def', 'ghi', 'jkl', 'mno', 'pqr']\n",
      "['abc', 'def', 'ghi', 'jkl', 'mno']\n",
      "['abc', 'ghi', 'jkl', 'mno']\n",
      "['abc', 'jkl', 'mno']\n"
     ]
    }
   ],
   "source": [
    "List = ['abc','def','ghi','jkl','mno','pqr']\n",
    "print(List)\n",
    "List.pop()\n",
    "print(List)\n",
    "List.pop(1)\n",
    "print(List)\n",
    "del List[1]\n",
    "print(List)"
   ]
  },
  {
   "cell_type": "code",
   "execution_count": 42,
   "metadata": {},
   "outputs": [
    {
     "name": "stdout",
     "output_type": "stream",
     "text": [
      "['abc', 'def', 'ghi', 'jkl', 'mno', 'pqr']\n",
      "['pqr', 'mno', 'jkl', 'ghi', 'def', 'abc']\n",
      "['abc', 'def', 'ghi', 'jkl', 'mno', 'pqr']\n",
      "6\n"
     ]
    }
   ],
   "source": [
    "List = ['abc','def','ghi','jkl','mno','pqr']\n",
    "print(List)\n",
    "List.reverse()\n",
    "print(List)\n",
    "List.sort()\n",
    "print(List)\n",
    "len(List)\n",
    "print(len(List))"
   ]
  },
  {
   "cell_type": "code",
   "execution_count": null,
   "metadata": {},
   "outputs": [],
   "source": []
  }
 ],
 "metadata": {
  "kernelspec": {
   "display_name": "Python 3",
   "language": "python",
   "name": "python3"
  },
  "language_info": {
   "codemirror_mode": {
    "name": "ipython",
    "version": 3
   },
   "file_extension": ".py",
   "mimetype": "text/x-python",
   "name": "python",
   "nbconvert_exporter": "python",
   "pygments_lexer": "ipython3",
   "version": "3.7.3"
  }
 },
 "nbformat": 4,
 "nbformat_minor": 2
}
