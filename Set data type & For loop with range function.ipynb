{
 "cells": [
  {
   "cell_type": "code",
   "execution_count": 2,
   "metadata": {},
   "outputs": [
    {
     "name": "stdout",
     "output_type": "stream",
     "text": [
      "[]\n",
      "['audi', 'bmw', 'honda', 'maruti', 'mahinda', 'skoda']\n",
      "['audi', 'bmw', 'honda', 'benze', 'maruti', 'mahinda', 'skoda']\n",
      "['audi', 'bmw', 'honda', 'benze', 'maruti', 'tata', 'mahinda', 'skoda']\n",
      "<built-in method sort of list object at 0x0000000004F38308>\n"
     ]
    }
   ],
   "source": [
    "import sys\n",
    "\n",
    "cars = []\n",
    "print(cars)\n",
    "cars.append('audi')\n",
    "cars.append('bmw')\n",
    "cars.append('honda')\n",
    "cars.append('maruti')\n",
    "cars.append('mahinda')\n",
    "cars.append('skoda')\n",
    "print(cars)\n",
    "\n",
    "cars.insert(3,'benze')\n",
    "print(cars)\n",
    "cars.insert(5,'tata')\n",
    "print(cars)"
   ]
  },
  {
   "cell_type": "code",
   "execution_count": 5,
   "metadata": {},
   "outputs": [
    {
     "name": "stdout",
     "output_type": "stream",
     "text": [
      "['audi', 'benze', 'bmw', 'honda', 'mahinda', 'maruti', 'skoda', 'tata']\n"
     ]
    }
   ],
   "source": [
    "cars = ['audi', 'bmw', 'honda', 'benze', 'maruti', 'tata', 'mahinda', 'skoda']\n",
    "cars.sort()\n",
    "print(cars)"
   ]
  },
  {
   "cell_type": "code",
   "execution_count": 8,
   "metadata": {},
   "outputs": [
    {
     "name": "stdout",
     "output_type": "stream",
     "text": [
      "['audi', 'benze', 'bmw', 'honda', 'mahinda', 'maruti', 'skoda']\n"
     ]
    }
   ],
   "source": [
    "cars = ['audi', 'benze', 'bmw', 'honda', 'mahinda', 'maruti', 'skoda', 'tata']\n",
    "\n",
    "cars.pop()\n",
    "print(cars)"
   ]
  },
  {
   "cell_type": "code",
   "execution_count": 10,
   "metadata": {},
   "outputs": [
    {
     "name": "stdout",
     "output_type": "stream",
     "text": [
      "['audi', 'benze', 'bmw', 'honda', 'mahinda', 'maruti', 'skoda', 'tata']\n",
      "['audi', 'benze', 'bmw', 'honda', 'mahinda', 'maruti', 'skoda']\n"
     ]
    }
   ],
   "source": [
    "cars = ['audi', 'benze', 'bmw', 'honda', 'mahinda', 'maruti', 'skoda', 'tata']\n",
    "print(cars)\n",
    "del cars[7]\n",
    "print(cars)"
   ]
  },
  {
   "cell_type": "code",
   "execution_count": 20,
   "metadata": {},
   "outputs": [
    {
     "name": "stdout",
     "output_type": "stream",
     "text": [
      "[1, 2, 3, 4]\n",
      "2\n",
      "3\n",
      "4\n",
      "5\n"
     ]
    }
   ],
   "source": [
    "cars = ['audi', 'benze', 'bmw', 'honda', 'mahinda', 'maruti', 'skoda', 'tata']\n",
    "#for x in cars: print(x)\n",
    "\n",
    "random_number = list(range(1,5))\n",
    "print(random_number)\n",
    "for x in random_number: print(x+1)"
   ]
  },
  {
   "cell_type": "code",
   "execution_count": 21,
   "metadata": {},
   "outputs": [
    {
     "name": "stdout",
     "output_type": "stream",
     "text": [
      "Audi is my favorite car.\n",
      "Benze is my favorite car.\n",
      "Bmw is my favorite car.\n",
      "Honda is my favorite car.\n",
      "Mahinda is my favorite car.\n",
      "Maruti is my favorite car.\n",
      "Skoda is my favorite car.\n",
      "Tata is my favorite car.\n"
     ]
    }
   ],
   "source": [
    "cars = ['audi', 'benze', 'bmw', 'honda', 'mahinda', 'maruti', 'skoda', 'tata']\n",
    "\n",
    "for x in cars: print(f'{x.title()} is my favorite car.')"
   ]
  },
  {
   "cell_type": "code",
   "execution_count": 28,
   "metadata": {},
   "outputs": [
    {
     "name": "stdout",
     "output_type": "stream",
     "text": [
      "[1, 2, 3, 4, 5, 6, 7, 8, 9]\n",
      "45\n",
      "[3, 4, 5, 6]\n"
     ]
    }
   ],
   "source": [
    "random_number = list(range(1,10))\n",
    "print(random_number)\n",
    "print(sum(random_number))\n",
    "#average(random_number)\n",
    "#count(random_number)\n",
    "len(random_number)\n",
    "\n",
    "print(random_number[2:6])"
   ]
  },
  {
   "cell_type": "code",
   "execution_count": null,
   "metadata": {},
   "outputs": [],
   "source": []
  }
 ],
 "metadata": {
  "kernelspec": {
   "display_name": "Python 3",
   "language": "python",
   "name": "python3"
  },
  "language_info": {
   "codemirror_mode": {
    "name": "ipython",
    "version": 3
   },
   "file_extension": ".py",
   "mimetype": "text/x-python",
   "name": "python",
   "nbconvert_exporter": "python",
   "pygments_lexer": "ipython3",
   "version": "3.7.3"
  }
 },
 "nbformat": 4,
 "nbformat_minor": 2
}
