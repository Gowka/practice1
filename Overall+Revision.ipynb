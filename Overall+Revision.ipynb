{
 "cells": [
  {
   "cell_type": "code",
   "execution_count": 2,
   "metadata": {
    "collapsed": false
   },
   "outputs": [
    {
     "name": "stdout",
     "output_type": "stream",
     "text": [
      "Ayyapan Ram\n"
     ]
    }
   ],
   "source": [
    "first_name = 'ayyapan'\n",
    "last_name = 'ram'\n",
    "full_name = f\"{first_name.title()} {last_name.title()}\"\n",
    "print(full_name)"
   ]
  },
  {
   "cell_type": "code",
   "execution_count": 19,
   "metadata": {
    "collapsed": false
   },
   "outputs": [
    {
     "name": "stdout",
     "output_type": "stream",
     "text": [
      "1\n",
      "2\n",
      "1 2 3 4 5 6\n",
      "abc\n"
     ]
    }
   ],
   "source": [
    "a=1\n",
    "b=2\n",
    "c=3\n",
    "d=4\n",
    "e=5\n",
    "f=6\n",
    "g =\"   abc   \"\n",
    "\n",
    "print(\"1\\n2\") \n",
    "print(a,b,c,d,e,f)\n",
    "print(g.strip())"
   ]
  },
  {
   "cell_type": "code",
   "execution_count": 30,
   "metadata": {
    "collapsed": false
   },
   "outputs": [
    {
     "name": "stdout",
     "output_type": "stream",
     "text": [
      "6.5\n"
     ]
    }
   ],
   "source": [
    "a = 1\n",
    "b = 2\n",
    "c = 3.5\n",
    "d = (a+b+c)\n",
    "\n",
    "type(d)\n",
    "print(d)"
   ]
  },
  {
   "cell_type": "code",
   "execution_count": 32,
   "metadata": {
    "collapsed": false
   },
   "outputs": [
    {
     "name": "stdout",
     "output_type": "stream",
     "text": [
      "maruti\n",
      "Tata\n"
     ]
    }
   ],
   "source": [
    "#Introduction to List\n",
    "cars = ['audi','bmw','skoda','tata','mahindra','maruti']\n",
    "\n",
    "print(cars[-1])\n",
    "print(cars[-3].title())\n"
   ]
  },
  {
   "cell_type": "code",
   "execution_count": 36,
   "metadata": {
    "collapsed": false
   },
   "outputs": [
    {
     "name": "stdout",
     "output_type": "stream",
     "text": [
      "['bmw', 'skoda']\n",
      "['audi', 'bmw', 'skoda']\n",
      "['bmw', 'skoda', 'tata', 'mahindra', 'maruti']\n"
     ]
    }
   ],
   "source": [
    "my_cars = list(cars[1:3])\n",
    "print(my_cars)\n",
    "my_cars1 = list(cars[:3])\n",
    "print(my_cars1)\n",
    "my_cars2 = list(cars[1:])\n",
    "print(my_cars2)"
   ]
  },
  {
   "cell_type": "code",
   "execution_count": 49,
   "metadata": {
    "collapsed": false
   },
   "outputs": [
    {
     "name": "stdout",
     "output_type": "stream",
     "text": [
      "['audi', 'bmw', 'skoda']\n",
      "['audi', 'bmw', 'tata', 'skoda']\n",
      "['audi', 'bmw', 'tata', 'mahindra', 'skoda']\n"
     ]
    }
   ],
   "source": [
    "#cars = ['audi','bmw','skoda','tata','mahindra','maruti']\n",
    "#print(cars)\n",
    "\n",
    "print(my_cars1)\n",
    "my_cars1.insert(2,'tata')\n",
    "print(my_cars1)\n",
    "my_cars1.insert(-1,'mahindra')\n",
    "print(my_cars1)\n"
   ]
  },
  {
   "cell_type": "code",
   "execution_count": 50,
   "metadata": {
    "collapsed": false
   },
   "outputs": [
    {
     "name": "stdout",
     "output_type": "stream",
     "text": [
      "['audi', 'bmw', 'mahindra', 'tata', 'mahindra', 'skoda']\n"
     ]
    }
   ],
   "source": [
    "my_cars1.insert(-3,'mahindra')\n",
    "print(my_cars1)"
   ]
  },
  {
   "cell_type": "code",
   "execution_count": 51,
   "metadata": {
    "collapsed": false
   },
   "outputs": [
    {
     "name": "stdout",
     "output_type": "stream",
     "text": [
      "['audi', 'bmw', 'mahindra', 'tata', 'mahindra', 'skoda']\n",
      "['audi', 'bmw', 'mahindra', 'tata', 'skoda']\n"
     ]
    }
   ],
   "source": [
    "print(my_cars1)\n",
    "del my_cars1[-2]\n",
    "print(my_cars1)"
   ]
  },
  {
   "cell_type": "code",
   "execution_count": 54,
   "metadata": {
    "collapsed": false
   },
   "outputs": [
    {
     "name": "stdout",
     "output_type": "stream",
     "text": [
      "audi is my favourite car\n",
      "bmw is my favourite car\n",
      "skoda is my favourite car\n",
      "tata is my favourite car\n",
      "mahindra is my favourite car\n",
      "maruti is my favourite car\n"
     ]
    }
   ],
   "source": [
    "for x in cars:\n",
    "    print(f\"{x} is my favourite car\")"
   ]
  },
  {
   "cell_type": "code",
   "execution_count": 60,
   "metadata": {
    "collapsed": false
   },
   "outputs": [
    {
     "name": "stdout",
     "output_type": "stream",
     "text": [
      "[1, 2, 3, 4, 5, 6, 7, 8, 9]\n",
      "[1, 3, 5, 7, 9]\n",
      "[2, 4, 6, 8]\n",
      "8\n"
     ]
    }
   ],
   "source": [
    "#Introduction to range\n",
    "\n",
    "list_of_num = list(range(1,10))\n",
    "print(list_of_num)\n",
    "list_of_even_num = list(range(1,10,2))\n",
    "print(list_of_even_num)\n",
    "list_of_even_num1 = list(range(2,10,2))\n",
    "print(list_of_even_num1)\n",
    "\n",
    "print(max(list_of_even_num1))\n"
   ]
  },
  {
   "cell_type": "code",
   "execution_count": 75,
   "metadata": {
    "collapsed": false
   },
   "outputs": [
    {
     "name": "stdout",
     "output_type": "stream",
     "text": [
      "{'name': 'Ashwin', 'age': '30', 'experience': '8', 'doj': '2012-01-01'}\n"
     ]
    }
   ],
   "source": [
    "employee1 = {'name':'Ashwin','age':'30','experience':'8','doj':'2012-01-01'}\n",
    "print(employee1)\n"
   ]
  },
  {
   "cell_type": "code",
   "execution_count": 76,
   "metadata": {
    "collapsed": false
   },
   "outputs": [
    {
     "name": "stdout",
     "output_type": "stream",
     "text": [
      "name\n",
      "age\n",
      "experience\n",
      "doj\n"
     ]
    }
   ],
   "source": [
    "for x in employee1:\n",
    "    print(x)"
   ]
  },
  {
   "cell_type": "code",
   "execution_count": 79,
   "metadata": {
    "collapsed": false
   },
   "outputs": [
    {
     "name": "stdout",
     "output_type": "stream",
     "text": [
      "{'name': 'Ashwin', 'age': 31, 'experience': '8', 'doj': '2012-01-01'}\n",
      "2012-01-01\n"
     ]
    }
   ],
   "source": [
    "employee1['age'] = 31\n",
    "print(employee1)\n",
    "print(employee1['doj'])"
   ]
  },
  {
   "cell_type": "code",
   "execution_count": 82,
   "metadata": {
    "collapsed": false
   },
   "outputs": [
    {
     "name": "stdout",
     "output_type": "stream",
     "text": [
      "(120, 20, 40)\n",
      "(20, 40, 120)\n",
      "20\n",
      "40\n",
      "120\n"
     ]
    }
   ],
   "source": [
    "#Introduction to Tuple\n",
    "\n",
    "ange_of_triange = (120,20,40)\n",
    "print(ange_of_triange)\n",
    "\n",
    "ange_of_triange = (20,40,120)\n",
    "print(ange_of_triange)\n",
    "\n",
    "for x in ange_of_triange:\n",
    "    print(x)"
   ]
  },
  {
   "cell_type": "code",
   "execution_count": 87,
   "metadata": {
    "collapsed": false
   },
   "outputs": [
    {
     "name": "stdout",
     "output_type": "stream",
     "text": [
      "Its present in the list\n"
     ]
    }
   ],
   "source": [
    "#boolean conditions\n",
    "\n",
    "a = 1\n",
    "a==1\n",
    "\n",
    "b = [1,3,4,8,5,6]\n",
    "b[-2] == 5\n",
    "\n",
    "2 in b\n",
    "\n",
    "if 8 in b:\n",
    "    print(\"Its present in the list\")\n",
    "else:\n",
    "    print(\"Its not prsent in the list\")"
   ]
  },
  {
   "cell_type": "code",
   "execution_count": 94,
   "metadata": {
    "collapsed": false
   },
   "outputs": [
    {
     "name": "stdout",
     "output_type": "stream",
     "text": [
      "Enter your name:Priya\n",
      "Priya\n",
      "Hi priya\n",
      "Hi priya\n"
     ]
    }
   ],
   "source": [
    "print(input(\"Enter your name:\")),\n"
   ]
  },
  {
   "cell_type": "code",
   "execution_count": 97,
   "metadata": {
    "collapsed": false
   },
   "outputs": [
    {
     "name": "stdout",
     "output_type": "stream",
     "text": [
      "Enter your name:Gowtham\n",
      "Hi Gowtham\n"
     ]
    }
   ],
   "source": [
    "name = input(\"Enter your name:\")\n",
    "print(f'Hi {name.title()}')"
   ]
  },
  {
   "cell_type": "code",
   "execution_count": 112,
   "metadata": {
    "collapsed": false
   },
   "outputs": [
    {
     "name": "stdout",
     "output_type": "stream",
     "text": [
      "Hi\n"
     ]
    }
   ],
   "source": [
    "def greet_user():    \"Get the Name and say Hi\"\n",
    "print('Hi')\n"
   ]
  },
  {
   "cell_type": "code",
   "execution_count": 116,
   "metadata": {
    "collapsed": false
   },
   "outputs": [
    {
     "name": "stdout",
     "output_type": "stream",
     "text": [
      "1\n",
      "2\n",
      "3\n",
      "4\n",
      "5\n"
     ]
    }
   ],
   "source": [
    "z = 1\n",
    "while z <= 5:\n",
    "    print(z)\n",
    "    z = z+1"
   ]
  },
  {
   "cell_type": "code",
   "execution_count": 117,
   "metadata": {
    "collapsed": true
   },
   "outputs": [],
   "source": [
    "def describe_pet(animal_type,pet_name):\n",
    "    \"\"\"Display information about a pet\"\"\"\n",
    "    print(f\"\\nI have a {animal_type}\")\n",
    "    print(f\"My {animal_type}'s name is {pet_name}\")"
   ]
  },
  {
   "cell_type": "code",
   "execution_count": 118,
   "metadata": {
    "collapsed": false
   },
   "outputs": [
    {
     "name": "stdout",
     "output_type": "stream",
     "text": [
      "\n",
      "I have a Dog\n",
      "My Dog's name is mani\n"
     ]
    }
   ],
   "source": [
    "describe_pet('Dog','mani') #This is called as Positional arguments."
   ]
  },
  {
   "cell_type": "code",
   "execution_count": 119,
   "metadata": {
    "collapsed": false
   },
   "outputs": [
    {
     "name": "stdout",
     "output_type": "stream",
     "text": [
      "\n",
      "I have a Dog\n",
      "My Dog's name is mani\n"
     ]
    }
   ],
   "source": [
    "describe_pet(pet_name = 'mani',animal_type = 'Dog') #This is called as Keyword arguments."
   ]
  },
  {
   "cell_type": "code",
   "execution_count": null,
   "metadata": {
    "collapsed": true
   },
   "outputs": [],
   "source": []
  }
 ],
 "metadata": {
  "kernelspec": {
   "display_name": "Python 3",
   "language": "python",
   "name": "python3"
  },
  "language_info": {
   "codemirror_mode": {
    "name": "ipython",
    "version": 3
   },
   "file_extension": ".py",
   "mimetype": "text/x-python",
   "name": "python",
   "nbconvert_exporter": "python",
   "pygments_lexer": "ipython3",
   "version": "3.6.0"
  }
 },
 "nbformat": 4,
 "nbformat_minor": 2
}
